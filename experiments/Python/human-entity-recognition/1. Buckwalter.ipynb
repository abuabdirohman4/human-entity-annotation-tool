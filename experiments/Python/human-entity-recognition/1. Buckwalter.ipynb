{
 "cells": [
  {
   "cell_type": "markdown",
   "metadata": {},
   "source": [
    "## 1. Buckwalter\n",
    "Mengubah form latin dalam dataset qorpus menjadi arab"
   ]
  },
  {
   "cell_type": "code",
   "execution_count": null,
   "metadata": {},
   "outputs": [],
   "source": [
    "import pandas as pd"
   ]
  },
  {
   "cell_type": "code",
   "execution_count": null,
   "metadata": {},
   "outputs": [],
   "source": [
    "# Install module\n",
    "# pip install lang-trans# Install module\n",
    "# pip install lang-trans"
   ]
  },
  {
   "cell_type": "code",
   "execution_count": null,
   "metadata": {},
   "outputs": [],
   "source": [
    "# Import package\n",
    "from lang_trans.arabic import buckwalter"
   ]
  },
  {
   "cell_type": "code",
   "execution_count": null,
   "metadata": {},
   "outputs": [],
   "source": [
    "# Import Dataset\n",
    "quranicDF = pd.read_excel('./Dataset/quranic-corpus-morphology-0.4.xlsx', index_col=0)"
   ]
  },
  {
   "cell_type": "code",
   "execution_count": null,
   "metadata": {},
   "outputs": [],
   "source": [
    "# Show first 5 row data\n",
    "quranicDF.head()# Show first 5 row data\n",
    "quranicDF.head()"
   ]
  },
  {
   "cell_type": "code",
   "execution_count": null,
   "metadata": {},
   "outputs": [],
   "source": [
    "# First Buckwaltering\n",
    "arab = []\n",
    "\n",
    "for i in range (len(quranicDF)):\n",
    "    if (pd.isna(quranicDF.iloc[i,0])):\n",
    "        arab.append(\"\")\n",
    "    else:\n",
    "        arab.append(buckwalter.untransliterate(quranicDF.iloc[i,0]))\n",
    "    (str(i) + ' ' +arab[i])# First Buckwaltering\n",
    "arab = []\n",
    "\n",
    "for i in range (len(quranicDF)):\n",
    "    if (pd.isna(quranicDF.iloc[i,0])):\n",
    "        arab.append(\"\")\n",
    "    else:\n",
    "        arab.append(buckwalter.untransliterate(quranicDF.iloc[i,0]))\n",
    "    (str(i) + ' ' +arab[i])"
   ]
  },
  {
   "cell_type": "markdown",
   "metadata": {},
   "source": [
    "#### Second Bucwaltering\n",
    "Menghilangkan 3 char yang aneh dan mereplace 1 char lalu bucwaltering semuanya ke arab#### Second Bucwaltering\n",
    "Menghilangkan 3 char yang aneh dan mereplace 1 char lalu bucwaltering semuanya ke arab"
   ]
  },
  {
   "cell_type": "code",
   "execution_count": null,
   "metadata": {},
   "outputs": [],
   "source": [
    "# Import package regular expression\n",
    "import re\n",
    "\n",
    "arab = []\n",
    "\n",
    "for i in range (len(quranicDF)):\n",
    "    \n",
    "    if (pd.isna(quranicDF.iloc[i,0])):\n",
    "        arab.append(\"\")\n",
    "    else:\n",
    "    \n",
    "        quranicDF.iloc[i,0] = re.sub(r'^aA', 'A`', quranicDF.iloc[i,0]) #belum paham parameter string/df.iloc[i,0] #Done\n",
    "\n",
    "        if quranicDF.iloc[i,0] == 'a':\n",
    "            arab.append(quranicDF.iloc[i,0].replace(r'^a$', '>a')) #belum paham $ nya #Done\n",
    "        else:\n",
    "            arab.append(buckwalter.untransliterate(quranicDF.iloc[i,0]))\n",
    "            \n",
    "        arab[i] = arab[i].replace('^', '')\n",
    "        arab[i] = arab[i].replace('@', '')\n",
    "        arab[i] = arab[i].replace('[', '')\n",
    "    str(i) + ' ' + arab[i]"
   ]
  },
  {
   "cell_type": "code",
   "execution_count": null,
   "metadata": {},
   "outputs": [],
   "source": [
    "# insert data to variable\n",
    "quranicDF['ARAB'] = arab\n",
    "arab# insert data to variable\n",
    "quranicDF['ARAB'] = arab\n",
    "arab"
   ]
  },
  {
   "cell_type": "code",
   "execution_count": null,
   "metadata": {},
   "outputs": [],
   "source": [
    "# export data\n",
    "quranicDF.to_excel(\"./Output/quranic-corpus-morphology-0.4-with-arab.xlsx\")\n",
    "# quranic_df.to_csv(\"./Output/quranic-corpus-morphology-0.4-with-arab.csv\")"
   ]
  }
 ],
 "metadata": {
  "language_info": {
   "codemirror_mode": {
    "name": "ipython",
    "version": 3
   },
   "file_extension": ".py",
   "mimetype": "text/x-python",
   "name": "python",
   "nbconvert_exporter": "python",
   "pygments_lexer": "ipython3",
   "version": "3.8.2-final"
  },
  "orig_nbformat": 2,
  "kernelspec": {
   "name": "python38264bit44b37e27f377498eb36e1368430e35ff",
   "display_name": "Python 3.8.2 64-bit"
  }
 },
 "nbformat": 4,
 "nbformat_minor": 2
}